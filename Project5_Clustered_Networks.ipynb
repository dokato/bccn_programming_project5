{
 "cells": [
  {
   "cell_type": "code",
   "execution_count": 3,
   "metadata": {
    "collapsed": false
   },
   "outputs": [],
   "source": [
    "# Import all stuff we need\n",
    "import numpy as np\n",
    "import matplotlib.pyplot as plt\n",
    "import matplotlib.gridspec as gridspec\n",
    "import matplotlib.pylab as pylab\n",
    "\n",
    "from brian import Network, Equations, NeuronGroup, Connection,\\\n",
    "    SpikeMonitor, raster_plot, StateMonitor, clear, reinit\n",
    "from brian.stdunits import ms, mV\n",
    "\n",
    "%matplotlib inline\n",
    "pylab.rcParams['figure.figsize'] = 12, 8  # changes figure size (width, height) for larger images"
   ]
  },
  {
   "cell_type": "code",
   "execution_count": 4,
   "metadata": {
    "collapsed": false
   },
   "outputs": [],
   "source": [
    "clear(True, True) \n",
    "reinit()# To reinit BRIAN clocks and remove all old BRIAN objects from namespace,\n",
    "# it's usually a good idea to put this at the beginning of a script"
   ]
  },
  {
   "cell_type": "code",
   "execution_count": 9,
   "metadata": {
    "collapsed": true
   },
   "outputs": [],
   "source": [
    "# The equations defining our neuron model\n",
    "eqs_string = ''' dV/dt = 1.0/tau * (mu - V) + I_syn : volt\n",
    "             mu : volt\n",
    "             tau : ms\n",
    "             I_syn : volt/ms\n",
    "             '''"
   ]
  },
  {
   "cell_type": "code",
   "execution_count": 10,
   "metadata": {
    "collapsed": true
   },
   "outputs": [],
   "source": [
    "# Our model parameters\n",
    "tau_e = 15*ms # membrane time constant (for excitatory synapses)\n",
    "tau_1 = 10*ms # membrane time constant (for inhibitory synapses)\n",
    "tau_syn_e = 3*ms # exc synaptic time constant tau2 in paper\n",
    "tau_syn_i = 2*ms # inh synaptic time constant tau2 in paper\n",
    "syn_delay = 1*ms # synaptic delay between two neurons tau1 in paper\n",
    "V_th = -50*mV # firing threshold\n",
    "V_reset = -65*mV # reset potential\n",
    "refr_period = 5*ms # absolute refractory period\n",
    "\n",
    "# Our parameters for the bias mu\n",
    "mu_e = np.array([1.1, 1.2]) # bias for excitatory neurons\n",
    "mu_i = np.array([1.0, 1.05]) # bias for inhibitory neurons\n",
    "\n",
    "# Number of neurons\n",
    "N_e = 4000 # number of exc neurons\n",
    "N_i = 1000 # number of inh neurons\n",
    "\n",
    "# Connection probability\n",
    "conn_prob_ee = 0.2\n",
    "conn_prob_ii = 0.5\n",
    "conn_prob_ei = 0.5\n",
    "conn_prob_ie = 0.5\n",
    "\n",
    "# Duration of our simulation\n",
    "duration = 2000*ms"
   ]
  },
  {
   "cell_type": "code",
   "execution_count": 11,
   "metadata": {
    "collapsed": false
   },
   "outputs": [],
   "source": [
    "# Let's create an equation object from our string and parameters\n",
    "model_eqs = Equations(eqs_string)"
   ]
  },
  {
   "cell_type": "code",
   "execution_count": 12,
   "metadata": {
    "collapsed": false
   },
   "outputs": [],
   "source": [
    "# Let's create 5000 neurons\n",
    "all_neurons = NeuronGroup(N=N_e+N_i,\n",
    "                          model=model_eqs,\n",
    "                          threshold=V_th,\n",
    "                          reset=V_reset,\n",
    "                          refractory=refr_period,\n",
    "                          freeze = True,\n",
    "                          method='Euler',\n",
    "                          compile=True)"
   ]
  },
  {
   "cell_type": "code",
   "execution_count": 13,
   "metadata": {
    "collapsed": true
   },
   "outputs": [],
   "source": [
    "# Divide the neurons into excitatory and inhibitory ones\n",
    "neurons_e = all_neurons[0:N_e]\n",
    "neurons_i = all_neurons[N_e:N_e+N_i]"
   ]
  },
  {
   "cell_type": "code",
   "execution_count": null,
   "metadata": {
    "collapsed": true
   },
   "outputs": [],
   "source": []
  }
 ],
 "metadata": {
  "kernelspec": {
   "display_name": "Python 2",
   "language": "python",
   "name": "python2"
  },
  "language_info": {
   "codemirror_mode": {
    "name": "ipython",
    "version": 2
   },
   "file_extension": ".py",
   "mimetype": "text/x-python",
   "name": "python",
   "nbconvert_exporter": "python",
   "pygments_lexer": "ipython2",
   "version": "2.7.10"
  }
 },
 "nbformat": 4,
 "nbformat_minor": 0
}
