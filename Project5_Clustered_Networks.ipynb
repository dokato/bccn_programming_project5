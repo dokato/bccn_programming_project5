{
 "cells": [
  {
   "cell_type": "code",
   "execution_count": 2,
   "metadata": {},
   "outputs": [
    {
     "name": "stderr",
     "output_type": "stream",
     "text": [
      "/Users/Jan/.virtualenvs/research/lib/python2.7/site-packages/brian/utils/sparse_patch/__init__.py:39: UserWarning: Couldn't find matching sparse matrix patch for scipy version 0.15.1, but in most cases this shouldn't be a problem.\n  warnings.warn(\"Couldn't find matching sparse matrix patch for scipy version %s, but in most cases this shouldn't be a problem.\" % scipy.__version__)\n"
     ]
    }
   ],
   "source": [
    "# Import all stuff we need\n",
    "import numpy as np\n",
    "import matplotlib.pyplot as plt\n",
    "import matplotlib.gridspec as gridspec\n",
    "import matplotlib.pylab as pylab\n",
    "from brian import Network, Equations, NeuronGroup, Connection,\\\n",
    "    SpikeMonitor, raster_plot, StateMonitor, clear, reinit\n",
    "from brian.stdunits import ms, mV\n",
    "from sklearn.cross_validation import KFold\n",
    "\n",
    "\n",
    "%matplotlib inline\n",
    "pylab.rcParams['figure.figsize'] = 12, 8  # changes figure size (width, height) for larger images"
   ]
  },
  {
   "cell_type": "code",
   "execution_count": 3,
   "metadata": {},
   "outputs": [],
   "source": [
    "clear(True, True) \n",
    "reinit()# To reinit BRIAN clocks and remove all old BRIAN objects from namespace,\n",
    "# it's usually a good idea to put this at the beginning of a script"
   ]
  },
  {
   "cell_type": "code",
   "execution_count": 4,
   "metadata": {},
   "outputs": [],
   "source": [
    "# The equations defining our neuron model\n",
    "eqs_string = ''' \n",
    "            dV/dt = (mu - V)/tau + x: volt\n",
    "            dx/dt = -1.0/tau_2*(x - y/tau_1) : volt/second\n",
    "            dy/dt = -y/tau_1 : volt\n",
    "            mu : volt\n",
    "            tau: second\n",
    "            tau_2: second\n",
    "            tau_1: second\n",
    "            '''\n",
    "\n",
    "\n",
    "def get_cluster_connection_probs(REE, k, pee):\n",
    "    p_out = pee * k/(REE + k -1)\n",
    "    p_in = REE * p_out\n",
    "    return p_in, p_out"
   ]
  },
  {
   "cell_type": "code",
   "execution_count": 5,
   "metadata": {},
   "outputs": [],
   "source": [
    "# simulation parameters \n",
    "realizations=1\n",
    "trials=1 \n",
    "t=3000 * ms\n",
    "alpha=1\n",
    "ree=1\n",
    "k=50\n",
    "\n",
    "# Model parameters\n",
    "n_e = int(4000 * alpha)  # number of exc neurons\n",
    "n_i = int(1000 * alpha)  # number of inh neurons\n",
    "tau_e = 15 * ms  # membrane time constant (for excitatory synapses)\n",
    "tau_i = 10 * ms  # membrane time constant (for inhibitory synapses)\n",
    "tau_syn_2_e = 3 * ms  # exc synaptic time constant tau2 in paper\n",
    "tau_syn_2_i = 2 * ms  # inh synaptic time constant tau2 in paper\n",
    "tau_syn_1 = 1 * ms  # exc/inh synaptic time constant tau1 in paper\n",
    "vt = -50 * mV  # firing threshold\n",
    "vr = -65 * mV  # reset potential\n",
    "refrac = 5 * ms  # absolute refractory period\n",
    "\n",
    "# scale the weights to ensure same variance in the inputs\n",
    "wee = 0.024 * 15 * mV * np.sqrt(1. / alpha)\n",
    "wei = 0.014 * 15 * mV * np.sqrt(1. / alpha)\n",
    "wii = -0.057 * 15 * mV * np.sqrt(1. / alpha)\n",
    "wie = -0.045 * 15 * mV * np.sqrt(1. / alpha)\n",
    "\n",
    "# Connection probability\n",
    "p_ee = 0.2\n",
    "p_ii = 0.5\n",
    "p_ei = 0.5\n",
    "p_ie = 0.5\n",
    "# determine probs for inside and outside of clusters\n",
    "p_in, p_out = get_cluster_connection_probs(ree, k, p_ee)\n",
    "\n",
    "# increase cluster weights if there are clusters\n",
    "wee_cluster = wee if p_in == p_out else 1.9 * wee"
   ]
  },
  {
   "cell_type": "code",
   "execution_count": 6,
   "metadata": {},
   "outputs": [],
   "source": [
    "# set up new random bias parameter for every type of neuron\n",
    "mu_e = vr + np.random.uniform(1.1, 1.2, n_e) * (vt - vr)  # bias for excitatory neurons\n",
    "mu_i = vr + np.random.uniform(1.0, 1.05, n_i) * (vt - vr)  # bias for excitatory neurons\n",
    "\n",
    "# Let's create an equation object from our string and parameters\n",
    "model_eqs = Equations(eqs_string)\n",
    "\n",
    "# Let's create 5000 neurons\n",
    "all_neurons = NeuronGroup(N=n_e + n_i,\n",
    "                          model=model_eqs,\n",
    "                          threshold=vt,\n",
    "                          reset=vr,\n",
    "                          refractory=refrac,\n",
    "                          freeze=True,\n",
    "                          method='Euler',\n",
    "                          compile=True)\n",
    "\n",
    "# Divide the neurons into excitatory and inhibitory ones\n",
    "neurons_e = all_neurons[0:n_e]\n",
    "neurons_i = all_neurons[n_e:n_e + n_i]\n",
    "\n",
    "# set the bias\n",
    "neurons_e.mu = mu_e\n",
    "neurons_i.mu = mu_i\n",
    "neurons_e.tau = tau_e\n",
    "neurons_i.tau = tau_i\n",
    "neurons_e.tau_2 = tau_syn_2_e\n",
    "neurons_i.tau_2 = tau_syn_2_i\n",
    "all_neurons.tau_1 = tau_syn_1\n",
    "\n",
    "# set up connections\n",
    "connections = Connection(all_neurons, all_neurons, 'y')\n",
    "\n",
    "# do the cluster connection like cross validation: cluster neuron := test idx; other neurons := train idx\n",
    "kf = KFold(n=n_e, n_folds=k)\n",
    "for idx_out, idx_in in kf:  # idx_out holds all other neurons; idx_in holds all cluster neurons\n",
    "    # connect current cluster to itself\n",
    "    connections.connect_random(all_neurons[idx_in[0]:idx_in[-1]], all_neurons[idx_in[0]:idx_in[-1]], 'y',\n",
    "                               sparseness=p_in, weight=wee_cluster)\n",
    "    # connect current cluster to other neurons\n",
    "    connections.connect_random(all_neurons[idx_in[0]:idx_in[-1]], all_neurons[idx_out[0]:idx_out[-1]], 'y',\n",
    "                               sparseness=p_out, weight=wee)\n",
    "\n",
    "# connect all excitatory to all inhibitory, irrespective of clustering\n",
    "connections.connect_random(all_neurons[0:n_e], all_neurons[n_e:(n_e + n_i)], 'y', sparseness=p_ei, weight=wei)\n",
    "# connect all inhibitory to all excitatory\n",
    "connections.connect_random(all_neurons[n_e:(n_e + n_i)], all_neurons[0:n_e], 'y', sparseness=p_ie, weight=wie)\n",
    "# connect all inhibitory to all inhibitory\n",
    "connections.connect_random(all_neurons[n_e:(n_e + n_i)], all_neurons[n_e:(n_e + n_i)], 'y', sparseness=p_ii,\n",
    "                           weight=wii)"
   ]
  },
  {
   "cell_type": "code",
   "execution_count": 7,
   "metadata": {},
   "outputs": [],
   "source": [
    "spike_mon_e = SpikeMonitor(neurons_e)\n",
    "spike_mon_i = SpikeMonitor(neurons_i)\n",
    "state_mon_v_e = StateMonitor(neurons_e, 'V', record=[0,1,2])\n",
    "state_mon_v_i = StateMonitor(neurons_i, 'V', record=[0,1])"
   ]
  },
  {
   "cell_type": "code",
   "execution_count": 8,
   "metadata": {},
   "outputs": [],
   "source": [
    "# set initial conditions\n",
    "all_neurons.V = vr + (vt - vr) * np.random.rand(len(all_neurons))"
   ]
  },
  {
   "cell_type": "code",
   "execution_count": 9,
   "metadata": {},
   "outputs": [
    {
     "name": "stdout",
     "output_type": "stream",
     "text": [
      "43% complete, 10s elapsed, approximately 13s remaining.\n"
     ]
    },
    {
     "name": "stdout",
     "output_type": "stream",
     "text": [
      "86% complete, 20s elapsed, approximately 3s remaining.\n"
     ]
    },
    {
     "name": "stdout",
     "output_type": "stream",
     "text": [
      "100% complete, 23s elapsed, approximately 0s remaining.\n"
     ]
    }
   ],
   "source": [
    "network = Network(all_neurons, connections, spike_mon_e, spike_mon_i)\n",
    "network.run(t, report='text')"
   ]
  },
  {
   "cell_type": "code",
   "execution_count": 1,
   "metadata": {},
   "outputs": [],
   "source": [
    "# Plot spike raster plots, blue exc neurons, red inh neurons\n",
    "plt.figure()\n",
    "plt.subplot(211)\n",
    "raster_plot(spike_mon_i, color='r')\n",
    "plt.title('Inhibitory neurons')\n",
    "plt.subplot(212)\n",
    "raster_plot(spike_mon_e)\n",
    "plt.title('Excitatory neurons')\n",
    "\n",
    "# Show the plots\n",
    "plt.show()"
   ]
  },
  {
   "cell_type": "code",
   "execution_count": 27,
   "metadata": {},
   "outputs": [
    {
     "data": {
      "text/plain": [
       "array([ 0.8357612 ,  0.85763592,  0.77753202,  0.70734736,  0.87847518,\n",
       "        0.39793216,  0.60250201,  0.45300073,  0.71891248,  0.66849186,\n",
       "        0.3232226 ,  0.97454095,  0.4224152 ,  0.40998891,  0.63107034,\n",
       "        0.52296396,  0.52939152,  0.57879959,  0.49119218,  0.05034723])"
      ]
     },
     "execution_count": 27,
     "output_type": "execute_result",
     "metadata": {}
    }
   ],
   "source": [
    ""
   ]
  },
  {
   "cell_type": "code",
   "execution_count": null,
   "metadata": {},
   "outputs": [],
   "source": [
    ""
   ]
  }
 ],
 "metadata": {
  "kernelspec": {
   "display_name": "Python 2",
   "language": "python",
   "name": "python2"
  },
  "language_info": {
   "codemirror_mode": {
    "name": "ipython",
    "version": 2.0
   },
   "file_extension": ".py",
   "mimetype": "text/x-python",
   "name": "python",
   "nbconvert_exporter": "python",
   "pygments_lexer": "ipython2",
   "version": "2.7.10"
  }
 },
 "nbformat": 4,
 "nbformat_minor": 0
}