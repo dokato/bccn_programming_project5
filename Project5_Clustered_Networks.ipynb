{
 "cells": [
  {
   "cell_type": "code",
   "execution_count": 9,
   "metadata": {
    "collapsed": false
   },
   "outputs": [],
   "source": [
    "# Import all stuff we need\n",
    "import numpy as np\n",
    "import matplotlib.pyplot as plt\n",
    "import matplotlib.gridspec as gridspec\n",
    "import matplotlib.pylab as pylab\n",
    "import warnings\n",
    "warnings.filterwarnings('ignore')\n",
    "\n",
    "from brian import Network, Equations, NeuronGroup, Connection,\\\n",
    "    SpikeMonitor, raster_plot, StateMonitor, clear, reinit\n",
    "from brian.stdunits import ms, mV\n",
    "\n",
    "%matplotlib inline\n",
    "pylab.rcParams['figure.figsize'] = 12, 8  # changes figure size (width, height) for larger images"
   ]
  },
  {
   "cell_type": "code",
   "execution_count": 10,
   "metadata": {
    "collapsed": false
   },
   "outputs": [],
   "source": [
    "clear(True, True) \n",
    "reinit() "
   ]
  },
  {
   "cell_type": "code",
   "execution_count": 21,
   "metadata": {
    "collapsed": true
   },
   "outputs": [],
   "source": [
    "# The equations defining our neuron model\n",
    "eqs_string_e = ''' dV/dt = 1.0/tau_e * (mu - V) + I_syn : volt\n",
    "             mu : volt\n",
    "             tau : ms\n",
    "             I_syn : volt/ms\n",
    "             '''\n",
    "\n",
    "eqs_string_i = ''' dV/dt = 1.0/tau_i * (mu - V) + I_syn : volt\n",
    "             mu : volt\n",
    "             tau : ms\n",
    "             I_syn : volt/ms\n",
    "             '''"
   ]
  },
  {
   "cell_type": "code",
   "execution_count": 12,
   "metadata": {
    "collapsed": true
   },
   "outputs": [],
   "source": [
    "# Our model parameters\n",
    "tau_e = 15*ms # membrane time constant (for excitatory synapses)\n",
    "tau_i = 10*ms # membrane time constant (for inhibitory synapses)\n",
    "tau_syn_e = 3*ms # exc synaptic time constant tau2 in paper\n",
    "tau_syn_i = 2*ms # inh synaptic time constant tau2 in paper\n",
    "syn_delay = 1*ms # synaptic delay between two neurons tau1 in paper\n",
    "V_th = -50*mV # firing threshold\n",
    "V_reset = -65*mV # reset potential\n",
    "refr_period = 5*ms # absolute refractory period\n",
    "\n",
    "# Our parameters for the bias mu\n",
    "mu_e = np.array([1.1, 1.2]) # bias for excitatory neurons\n",
    "mu_i = np.array([1.0, 1.05]) # bias for inhibitory neurons\n",
    "\n",
    "# Number of neurons\n",
    "N_e = 4000 # number of exc neurons\n",
    "N_i = 1000 # number of inh neurons\n",
    "\n",
    "# Connection probability\n",
    "conn_prob_ee = 0.2\n",
    "conn_prob_ii = conn_prob_ei = conn_prob_ie = 0.5\n",
    "\n",
    "# Duration of our simulation\n",
    "duration = 2000*ms"
   ]
  },
  {
   "cell_type": "code",
   "execution_count": 22,
   "metadata": {
    "collapsed": false
   },
   "outputs": [],
   "source": [
    "# Let's create an equation object from our string and parameters\n",
    "model_eqs_e = Equations(eqs_string_e,\n",
    "                     tau_e=tau_e)\n",
    "model_eqs_i = Equations(eqs_string_i,\n",
    "                     tau_i=tau_i)"
   ]
  },
  {
   "cell_type": "code",
   "execution_count": 23,
   "metadata": {
    "collapsed": false
   },
   "outputs": [],
   "source": [
    "neurons_e = NeuronGroup(N=N_e,\n",
    "                        model=model_eqs_e,\n",
    "                        threshold=V_th,\n",
    "                        reset=V_reset,\n",
    "                        refractory=refr_period,\n",
    "                        freeze = True,\n",
    "                        method='Euler',\n",
    "                        compile=True)\n",
    "\n",
    "neurons_i = NeuronGroup(N=N_i,\n",
    "                        model=model_eqs_i,\n",
    "                        threshold=V_th,\n",
    "                        reset=V_reset,\n",
    "                        refractory=refr_period,\n",
    "                        freeze = True,\n",
    "                        method='Euler',\n",
    "                        compile=True)"
   ]
  },
  {
   "cell_type": "code",
   "execution_count": 24,
   "metadata": {
    "collapsed": false
   },
   "outputs": [],
   "source": [
    "neurons_e.V = V_reset + np.random.uniform(1.1, 1.2, N_e) * (V_th-V_reset)\n",
    "neurons_i.V = V_reset + np.random.uniform(1., 1.05, N_i) * (V_th-V_reset)"
   ]
  },
  {
   "cell_type": "code",
   "execution_count": null,
   "metadata": {
    "collapsed": true
   },
   "outputs": [],
   "source": []
  }
 ],
 "metadata": {
  "kernelspec": {
   "display_name": "Python 2",
   "language": "python",
   "name": "python2"
  },
  "language_info": {
   "codemirror_mode": {
    "name": "ipython",
    "version": 2
   },
   "file_extension": ".py",
   "mimetype": "text/x-python",
   "name": "python",
   "nbconvert_exporter": "python",
   "pygments_lexer": "ipython2",
   "version": "2.7.11"
  }
 },
 "nbformat": 4,
 "nbformat_minor": 0
}
